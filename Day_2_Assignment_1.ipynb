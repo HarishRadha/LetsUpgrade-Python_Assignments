{
  "nbformat": 4,
  "nbformat_minor": 0,
  "metadata": {
    "colab": {
      "name": "Day 2 Assignment 1.ipynb",
      "provenance": [],
      "collapsed_sections": []
    },
    "kernelspec": {
      "name": "python3",
      "display_name": "Python 3"
    }
  },
  "cells": [
    {
      "cell_type": "code",
      "metadata": {
        "colab": {
          "base_uri": "https://localhost:8080/"
        },
        "id": "U0Gm5GSlDkXN",
        "outputId": "cfca116b-2da2-4e9e-9b85-38b25e8a5d27"
      },
      "source": [
        "# Question 1\r\n",
        "# Program to print prime numbers in a interval\r\n",
        "\r\n",
        "MaxInterval=int(input(\"Enter a number\"))\r\n",
        "for number in range(1,MaxInterval):\r\n",
        "  if number > 1:\r\n",
        "    for i in range(2, number):\r\n",
        "      if(number%i==0):\r\n",
        "        break\r\n",
        "    else:\r\n",
        "      print(number)"
      ],
      "execution_count": 20,
      "outputs": [
        {
          "output_type": "stream",
          "text": [
            "Enter a number15\n",
            "2\n",
            "3\n",
            "5\n",
            "7\n",
            "11\n",
            "13\n"
          ],
          "name": "stdout"
        }
      ]
    },
    {
      "cell_type": "code",
      "metadata": {
        "colab": {
          "base_uri": "https://localhost:8080/"
        },
        "id": "78YBdFq1HhTQ",
        "outputId": "45e7ec6b-54cc-48af-dde6-7e9a4a3bb3c8"
      },
      "source": [
        "# Question 2\r\n",
        "# Program for factorial of a number\r\n",
        "\r\n",
        "number=int(input(\"Enter a number\"))\r\n",
        "fact=1\r\n",
        "for i in range(1,number+1):\r\n",
        "  fact=fact*i\r\n",
        "print(fact)\r\n"
      ],
      "execution_count": 12,
      "outputs": [
        {
          "output_type": "stream",
          "text": [
            "Enter a number5\n",
            "120\n"
          ],
          "name": "stdout"
        }
      ]
    },
    {
      "cell_type": "code",
      "metadata": {
        "colab": {
          "base_uri": "https://localhost:8080/"
        },
        "id": "BITI4JYlJYp8",
        "outputId": "2c5213bb-5aae-4a4d-8218-03290a040c5d"
      },
      "source": [
        "# Question 3\r\n",
        "# Program to Sum of N numbers using while loop\r\n",
        "\r\n",
        "number=int(input(\"Enter a number\"))\r\n",
        "sum=0\r\n",
        "while number >0:\r\n",
        "  sum =sum + number\r\n",
        "  number -=1\r\n",
        "print(sum)"
      ],
      "execution_count": 18,
      "outputs": [
        {
          "output_type": "stream",
          "text": [
            "Enter a number10\n",
            "55\n"
          ],
          "name": "stdout"
        }
      ]
    }
  ]
}