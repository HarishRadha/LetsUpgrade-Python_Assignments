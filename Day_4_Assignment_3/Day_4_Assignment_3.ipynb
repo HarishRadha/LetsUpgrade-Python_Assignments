{
  "nbformat": 4,
  "nbformat_minor": 0,
  "metadata": {
    "colab": {
      "name": "Day_4_Assignment_3.ipynb",
      "provenance": [],
      "collapsed_sections": []
    },
    "kernelspec": {
      "name": "python3",
      "display_name": "Python 3"
    }
  },
  "cells": [
    {
      "cell_type": "code",
      "metadata": {
        "id": "FCc5QIP6udJT"
      },
      "source": [
        "# Question 1\r\n",
        "# Program to merge two files into a third file.\r\n",
        "\r\n",
        "filenames = ['file1.txt', 'file2.txt']\r\n",
        "with open('file3.txt', 'w') as outfile:\r\n",
        "  for names in filenames:\r\n",
        "    with open(names) as infile:\r\n",
        "      outfile.write(infile.read())\r\n",
        "    outfile.write(\"\\n\") "
      ],
      "execution_count": null,
      "outputs": []
    },
    {
      "cell_type": "code",
      "metadata": {
        "colab": {
          "base_uri": "https://localhost:8080/"
        },
        "id": "f0Cex41A9hBW",
        "outputId": "25553186-72d7-4605-b69e-d4897f83f835"
      },
      "source": [
        "# Question 2\r\n",
        "# Program to convert two lists into a dictionary\r\n",
        "\r\n",
        "list1=[1,2,3,4,5]\r\n",
        "list2=['a','b','c','d','e']\r\n",
        "\r\n",
        "dict1={}\r\n",
        "\r\n",
        "for i in list1:\r\n",
        "  for j in list2:\r\n",
        "    dict1[i]=j\r\n",
        "    list2.remove(j)\r\n",
        "    break\r\n",
        "print(dict1)"
      ],
      "execution_count": 23,
      "outputs": [
        {
          "output_type": "stream",
          "text": [
            "{1: 'a', 2: 'b', 3: 'c', 4: 'd', 5: 'e'}\n"
          ],
          "name": "stdout"
        }
      ]
    }
  ]
}