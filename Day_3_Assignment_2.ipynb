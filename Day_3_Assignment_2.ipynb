{
  "nbformat": 4,
  "nbformat_minor": 0,
  "metadata": {
    "colab": {
      "name": "Day 3 Assignment 2.ipynb",
      "provenance": [],
      "collapsed_sections": []
    },
    "kernelspec": {
      "name": "python3",
      "display_name": "Python 3"
    }
  },
  "cells": [
    {
      "cell_type": "code",
      "metadata": {
        "colab": {
          "base_uri": "https://localhost:8080/"
        },
        "id": "yX80MLjgpFIx",
        "outputId": "34843655-b48b-43cd-df06-409b47b6d466"
      },
      "source": [
        "# Question 1\r\n",
        "# Program to remove empty List from List.\r\n",
        "\r\n",
        "list1=[\"sachin\",\"dhoni\",[],\"virat\",[],\"rohit\"]\r\n",
        "\r\n",
        "for i in list1:\r\n",
        "  if len(i)==0:\r\n",
        "    list1.remove(i)\r\n",
        "print(list1)"
      ],
      "execution_count": null,
      "outputs": [
        {
          "output_type": "stream",
          "text": [
            "['sachin', 'dhoni', 'virat', 'rohit']\n"
          ],
          "name": "stdout"
        }
      ]
    },
    {
      "cell_type": "code",
      "metadata": {
        "colab": {
          "base_uri": "https://localhost:8080/"
        },
        "id": "Ge9LSr7asblC",
        "outputId": "9c681dfc-4170-4907-ccbc-bfd9642519b2"
      },
      "source": [
        "# Question 2\r\n",
        "# Program to remove all duplicates words from a given sentence\r\n",
        "\r\n",
        "str1=\"Python is awesome and also java is awesome\"\r\n",
        "splittedstr=str1.split(\" \")\r\n",
        "newstr=\" \"\r\n",
        "iter=0\r\n",
        "\r\n",
        "for x in splittedstr[:-1]:\r\n",
        "  #print (x)\r\n",
        "  if (splittedstr.count(x) >1):\r\n",
        "    newstr+=\" \"+x\r\n",
        "    for i in splittedstr:\r\n",
        "      if (i==x):\r\n",
        "        splittedstr.remove(i)\r\n",
        "  else:\r\n",
        "    length=len(splittedstr)\r\n",
        "    if iter!=length:\r\n",
        "      joint=splittedstr[iter]\r\n",
        "      newstr+=\" \" + joint\r\n",
        "      iter+=1\r\n",
        "    \r\n",
        "print(newstr)\r\n",
        "\r\n"
      ],
      "execution_count": null,
      "outputs": [
        {
          "output_type": "stream",
          "text": [
            "  Python is awesome and also java\n"
          ],
          "name": "stdout"
        }
      ]
    },
    {
      "cell_type": "code",
      "metadata": {
        "colab": {
          "base_uri": "https://localhost:8080/"
        },
        "id": "yLu2G6tP6l_n",
        "outputId": "89cbdaa3-b061-45b0-e896-215dbc360d10"
      },
      "source": [
        "# Question 3\r\n",
        "# Python program to find all occurrences of a character in the given string\r\n",
        "\r\n",
        "str1=\"python program is trending everywhere\"\r\n",
        "ch=input(\"Enter the character you want to find?\")\r\n",
        "\r\n",
        "for i in range(len(str1)):\r\n",
        "  if (str1[i] == ch):\r\n",
        "    print(ch, \"is found at positions\",i+1)\r\n"
      ],
      "execution_count": 7,
      "outputs": [
        {
          "output_type": "stream",
          "text": [
            "Enter the character you want to find?p\n",
            "p is found at positions 1\n",
            "p is found at positions 8\n"
          ],
          "name": "stdout"
        }
      ]
    },
    {
      "cell_type": "markdown",
      "metadata": {
        "id": "PY3Fg8OYoUKY"
      },
      "source": [
        ""
      ]
    }
  ]
}